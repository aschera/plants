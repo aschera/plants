{
 "cells": [
  {
   "cell_type": "code",
   "execution_count": 44,
   "metadata": {},
   "outputs": [],
   "source": [
    "import requests"
   ]
  },
  {
   "cell_type": "code",
   "execution_count": 45,
   "metadata": {},
   "outputs": [],
   "source": [
    "# Define the API endpoint\n",
    "url_basic = \"https://api.artdatabanken.se/metodkatalog/v1/MetaData/assessmentbasis\""
   ]
  },
  {
   "cell_type": "code",
   "execution_count": 46,
   "metadata": {},
   "outputs": [],
   "source": [
    "# Define the API endpoint for retrieving all methods or activities\n",
    "url_methods = \"https://api.artdatabanken.se/metodkatalog/v1/MetaData/activity\"\n"
   ]
  },
  {
   "cell_type": "code",
   "execution_count": 47,
   "metadata": {},
   "outputs": [],
   "source": [
    "# Define the API endpoint for retrieving all method assessments\n",
    "url_assess = \"https://api.artdatabanken.se/metodkatalog/v1/MetaData/assessment\""
   ]
  },
  {
   "cell_type": "code",
   "execution_count": 48,
   "metadata": {},
   "outputs": [],
   "source": [
    "# Define the API endpoint for retrieving all habitats\n",
    "url_habitat = \"https://api.artdatabanken.se/metodkatalog/v1/MetaData/environments\""
   ]
  },
  {
   "cell_type": "code",
   "execution_count": 49,
   "metadata": {},
   "outputs": [],
   "source": [
    "# Define your API keys\n",
    "primary_key = \"882a532ce56a48d29bc9812e502b1852\"\n",
    "secondary_key = \"613ef33a83b445c9b405d88269c0f89f\""
   ]
  },
  {
   "cell_type": "code",
   "execution_count": 50,
   "metadata": {},
   "outputs": [],
   "source": [
    "# Set up the headers with your API keys\n",
    "headers = {\n",
    "    \"Ocp-Apim-Subscription-Key\": primary_key,\n",
    "    \"Ocp-Apim-Subscription-Key-Secondary\": secondary_key\n",
    "}\n"
   ]
  },
  {
   "cell_type": "code",
   "execution_count": 51,
   "metadata": {},
   "outputs": [
    {
     "name": "stdout",
     "output_type": "stream",
     "text": [
      "List of assessment bases:\n",
      "[{'id': 1, 'value': 'Forskning'}, {'id': 2, 'value': 'Praktisk erfarenhet'}]\n"
     ]
    }
   ],
   "source": [
    "# Send the GET request with the headers\n",
    "response_test = requests.get(url_basic, headers=headers)\n",
    "\n",
    "# Check if the request was successful (status code 200)\n",
    "if response_test.status_code == 200:\n",
    "    # Print the response content (list of assessment bases)\n",
    "    print(\"List of assessment bases:\")\n",
    "    print(response_test.json())\n",
    "else:\n",
    "    print(\"Failed to retrieve assessment bases. Status code:\", response.status_code)\n"
   ]
  },
  {
   "cell_type": "code",
   "execution_count": 52,
   "metadata": {},
   "outputs": [],
   "source": [
    "# Send the GET request with the headers\n",
    "response = requests.get(url_methods, headers=headers) "
   ]
  },
  {
   "cell_type": "code",
   "execution_count": 53,
   "metadata": {},
   "outputs": [
    {
     "name": "stdout",
     "output_type": "stream",
     "text": [
      "[{\"activityTypeId\":2,\"id\":1,\"value\":\"Bete\"},{\"activityTypeId\":3,\"id\":2,\"value\":\"Besprutning\"},{\"activityTypeId\":3,\"id\":3,\"value\":\"Applicering\"},{\"activityTypeId\":1,\"id\":4,\"value\":\"Kapning\"},{\"activityTypeId\":1,\"id\":5,\"value\":\"Rotdragning\"},{\"activityTypeId\":1,\"id\":6,\"value\":\"Markbearbetning\"},{\"activityTypeId\":1,\"id\":7,\"value\":\"Täckning\"},{\"activityTypeId\":2,\"id\":8,\"value\":\"Parasit/rovdjur\"},{\"activityTypeId\":5,\"id\":34,\"value\":\"Kombination av metoder\"},{\"activityTypeId\":1,\"id\":35,\"value\":\"Uppgrävning\"},{\"activityTypeId\":1,\"id\":68,\"value\":\"Slåtter\"},{\"activityTypeId\":1,\"id\":69,\"value\":\"Torrläggning\"},{\"activityTypeId\":1,\"id\":70,\"value\":\"Skörd\"},{\"activityTypeId\":3,\"id\":71,\"value\":\"Salthaltshöjning\"},{\"activityTypeId\":3,\"id\":72,\"value\":\"Näringsbegränsning\"},{\"activityTypeId\":1,\"id\":73,\"value\":\"Rotkapning\"}]\n"
     ]
    }
   ],
   "source": [
    "# Print the raw response content\n",
    "print(response.text)"
   ]
  },
  {
   "cell_type": "code",
   "execution_count": 54,
   "metadata": {},
   "outputs": [
    {
     "name": "stdout",
     "output_type": "stream",
     "text": [
      "List of activities:\n",
      "- {'activityTypeId': 2, 'id': 1, 'value': 'Bete'}\n",
      "- {'activityTypeId': 3, 'id': 2, 'value': 'Besprutning'}\n",
      "- {'activityTypeId': 3, 'id': 3, 'value': 'Applicering'}\n",
      "- {'activityTypeId': 1, 'id': 4, 'value': 'Kapning'}\n",
      "- {'activityTypeId': 1, 'id': 5, 'value': 'Rotdragning'}\n",
      "- {'activityTypeId': 1, 'id': 6, 'value': 'Markbearbetning'}\n",
      "- {'activityTypeId': 1, 'id': 7, 'value': 'Täckning'}\n",
      "- {'activityTypeId': 2, 'id': 8, 'value': 'Parasit/rovdjur'}\n",
      "- {'activityTypeId': 5, 'id': 34, 'value': 'Kombination av metoder'}\n",
      "- {'activityTypeId': 1, 'id': 35, 'value': 'Uppgrävning'}\n",
      "- {'activityTypeId': 1, 'id': 68, 'value': 'Slåtter'}\n",
      "- {'activityTypeId': 1, 'id': 69, 'value': 'Torrläggning'}\n",
      "- {'activityTypeId': 1, 'id': 70, 'value': 'Skörd'}\n",
      "- {'activityTypeId': 3, 'id': 71, 'value': 'Salthaltshöjning'}\n",
      "- {'activityTypeId': 3, 'id': 72, 'value': 'Näringsbegränsning'}\n",
      "- {'activityTypeId': 1, 'id': 73, 'value': 'Rotkapning'}\n"
     ]
    }
   ],
   "source": [
    "# Check if the request was successful (status code 200)\n",
    "if response.status_code == 200:\n",
    "    # Extract the list of activities from the response\n",
    "    activities = response.json()\n",
    "    \n",
    "    # Print the list of activities\n",
    "    print(\"List of activities:\")\n",
    "    for activity in activities:\n",
    "        print(\"-\", activity)\n",
    "else:\n",
    "    print(\"Failed to retrieve activities. Status code:\", response.status_code)\n"
   ]
  },
  {
   "cell_type": "code",
   "execution_count": 55,
   "metadata": {},
   "outputs": [
    {
     "name": "stdout",
     "output_type": "stream",
     "text": [
      "List of method assessments:\n",
      "- {'id': 1, 'value': 'Rekommenderad'}\n",
      "- {'id': 2, 'value': 'Mycket bra'}\n",
      "- {'id': 3, 'value': 'Bra'}\n",
      "- {'id': 4, 'value': 'Dålig'}\n",
      "- {'id': 5, 'value': 'Olämplig'}\n",
      "- {'id': 6, 'value': 'Oprövad'}\n"
     ]
    }
   ],
   "source": [
    "# Send the GET request with the headers\n",
    "response = requests.get(url_assess, headers=headers)\n",
    "\n",
    "# Check if the request was successful (status code 200)\n",
    "if response.status_code == 200:\n",
    "    # Extract the list of method assessments from the response\n",
    "    assessments = response.json()\n",
    "    \n",
    "    # Print the list of method assessments\n",
    "    print(\"List of method assessments:\")\n",
    "    for assessment in assessments:\n",
    "        print(\"-\", assessment)\n",
    "else:\n",
    "    print(\"Failed to retrieve method assessments. Status code:\", response.status_code)\n"
   ]
  },
  {
   "cell_type": "code",
   "execution_count": 56,
   "metadata": {},
   "outputs": [
    {
     "name": "stdout",
     "output_type": "stream",
     "text": [
      "List of habitats:\n",
      "- {'id': 1, 'value': 'Skog'}\n",
      "- {'id': 2, 'value': 'Jordbrukslandskap'}\n",
      "- {'id': 7, 'value': 'Sötvatten'}\n",
      "- {'id': 3, 'value': 'Urban miljö'}\n",
      "- {'id': 4, 'value': 'Sandmiljö'}\n",
      "- {'id': 5, 'value': 'Ängsmark/betesmark'}\n",
      "- {'id': 6, 'value': 'Våtmark'}\n"
     ]
    }
   ],
   "source": [
    "# Send the GET request with the headers\n",
    "response = requests.get(url_habitat, headers=headers)\n",
    "\n",
    "# Check if the request was successful (status code 200)\n",
    "if response.status_code == 200:\n",
    "    # Extract the list of habitats from the response\n",
    "    habitats = response.json()\n",
    "    \n",
    "    # Print the list of habitats\n",
    "    print(\"List of habitats:\")\n",
    "    for habitat in habitats:\n",
    "        print(\"-\", habitat)\n",
    "else:\n",
    "    print(\"Failed to retrieve habitats. Status code:\", response.status_code)\n"
   ]
  }
 ],
 "metadata": {
  "kernelspec": {
   "display_name": "jupyterlab",
   "language": "python",
   "name": "python3"
  },
  "language_info": {
   "codemirror_mode": {
    "name": "ipython",
    "version": 3
   },
   "file_extension": ".py",
   "mimetype": "text/x-python",
   "name": "python",
   "nbconvert_exporter": "python",
   "pygments_lexer": "ipython3",
   "version": "3.11.5"
  }
 },
 "nbformat": 4,
 "nbformat_minor": 2
}
