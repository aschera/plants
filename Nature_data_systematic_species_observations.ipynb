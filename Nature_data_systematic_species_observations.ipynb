{
 "cells": [
  {
   "cell_type": "code",
   "execution_count": 10,
   "metadata": {},
   "outputs": [],
   "source": [
    "import json\n",
    "import requests"
   ]
  },
  {
   "cell_type": "code",
   "execution_count": 4,
   "metadata": {},
   "outputs": [],
   "source": [
    "# Define your API keys\n",
    "primary_key = \"fc5281fc3a304be4a5b20017cd59cfac\"\n",
    "secondary_key = \"82156f95fc494d59a53438144f59d883\""
   ]
  },
  {
   "cell_type": "code",
   "execution_count": 5,
   "metadata": {},
   "outputs": [],
   "source": [
    "# Set up the headers with your API keys\n",
    "headers = {\n",
    "    \"Ocp-Apim-Subscription-Key\": primary_key,\n",
    "    \"Ocp-Apim-Subscription-Key-Secondary\": secondary_key\n",
    "}"
   ]
  },
  {
   "cell_type": "code",
   "execution_count": 6,
   "metadata": {},
   "outputs": [],
   "source": [
    "# Define the API endpoint for retrieving API information\n",
    "url_info = \"https://api.artdatabanken.se/data-stewardship-api/v1/api_info\""
   ]
  },
  {
   "cell_type": "code",
   "execution_count": 7,
   "metadata": {},
   "outputs": [
    {
     "name": "stdout",
     "output_type": "stream",
     "text": [
      "API Information:\n",
      "apiName: Nature data - systematic species observations\n",
      "apiVersion: 1.0.5\n",
      "apiReleased: 2023-09-20T11:25:10+02:00\n",
      "apiDocumentation: https://github.com/biodiversitydata-se/SOS/blob/master/Docs/DataStewardship/README.md\n",
      "apiChangelog: https://github.com/biodiversitydata-se/SOS/blob/master/Docs/DataStewardship/CHANGELOG.md\n",
      "apiStatus: active\n"
     ]
    }
   ],
   "source": [
    "# Send a GET request to the API endpoint with the headers\n",
    "response = requests.get(url_info, headers=headers)\n",
    "\n",
    "# Check if the request was successful (status code 200)\n",
    "if response.status_code == 200:\n",
    "    # Extract the API information from the response\n",
    "    api_info = response.json()\n",
    "    \n",
    "    # Print all keys and their corresponding values\n",
    "    print(\"API Information:\")\n",
    "    for key, value in api_info.items():\n",
    "        print(f\"{key}: {value}\")\n",
    "else:\n",
    "    print(\"Failed to retrieve API information. Status code:\", response.status_code)\n",
    "\n"
   ]
  },
  {
   "cell_type": "markdown",
   "metadata": {},
   "source": [
    "# Starts Csv aynchronous file order. \n",
    "When the file is ready, you will receive an email containing a download link. \n",
    "The limit is 2 million observations.\n",
    "\n",
    "https://github.com/biodiversitydata-se/SOS/blob/master/Docs/Exports.md"
   ]
  },
  {
   "cell_type": "code",
   "execution_count": 8,
   "metadata": {},
   "outputs": [
    {
     "name": "stdout",
     "output_type": "stream",
     "text": [
      "Failed to start the file order. Status code: 404\n"
     ]
    }
   ],
   "source": [
    "# Define the endpoint URL\n",
    "url_order = \"https://api.artdatabanken.se/Exports/Order/Csv\"\n",
    "\n",
    "# Define the parameters for the file order\n",
    "params = {\n",
    "    \"description\": \"Your download description\",\n",
    "    \"cultureCode\": \"en-US\",  # or any other appropriate culture code\n",
    "    \"outputFieldSet\": \"default\",  # or specify the observation property field set\n",
    "    \"propertyLabelType\": \"PropertyName\",  # or any other label type\n",
    "    \"flat\": True,  # or False if you want hierarchical JSON structure\n",
    "    \"excludeNullValues\": True  # or False if you want to include properties with null values\n",
    "}\n",
    "\n",
    "# Start the asynchronous file order\n",
    "response = requests.post(url_order, headers=headers, params=params)\n",
    "\n",
    "# Check if the request was successful\n",
    "if response.status_code == 200:\n",
    "    print(\"File order started successfully. Check your email for the download link.\")\n",
    "else:\n",
    "    print(\"Failed to start the file order. Status code:\", response.status_code)\n"
   ]
  },
  {
   "cell_type": "code",
   "execution_count": 11,
   "metadata": {},
   "outputs": [
    {
     "name": "stdout",
     "output_type": "stream",
     "text": [
      "Retrieved 5000 observations.\n",
      "Data saved to observations.json file.\n"
     ]
    }
   ],
   "source": [
    "def fetch_species_observations(start_index, count):\n",
    "    url = \"https://sosgeo.artdata.slu.se/geoserver/wfs\"\n",
    "    params = {\n",
    "        \"REQUEST\": \"GetFeature\",\n",
    "        \"OUTPUTFORMAT\": \"application/json\",\n",
    "        \"VERSION\": \"2.0.0\",\n",
    "        \"TYPENAMES\": \"SOS:SpeciesObservations\",\n",
    "        \"COUNT\": count,\n",
    "        \"SERVICE\": \"wfs\",\n",
    "        \"CQL_FILTER\": \"isRedlisted='TRUE'\",\n",
    "        \"STARTINDEX\": start_index\n",
    "    }\n",
    "\n",
    "    response = requests.get(url, params=params)\n",
    "    if response.status_code == 200:\n",
    "        data = response.json()\n",
    "        return data\n",
    "    else:\n",
    "        print(\"Failed to fetch data. Status code:\", response.status_code)\n",
    "        return None\n",
    "\n",
    "def save_to_json(data, filename):\n",
    "    with open(filename, 'w') as f:\n",
    "        json.dump(data, f, indent=4)\n",
    "\n",
    "# Example usage\n",
    "start_index = 0\n",
    "count = 5000\n",
    "observations = fetch_species_observations(start_index, count)\n",
    "if observations:\n",
    "    print(\"Retrieved\", len(observations[\"features\"]), \"observations.\")\n",
    "    save_to_json(observations, \"observations.json\")\n",
    "    print(\"Data saved to observations.json file.\")\n",
    "\n"
   ]
  },
  {
   "cell_type": "code",
   "execution_count": 14,
   "metadata": {},
   "outputs": [
    {
     "name": "stdout",
     "output_type": "stream",
     "text": [
      "Occurrence ID: urn:lsid:artportalen.se:sighting:115039001\n",
      "Scientific Name: Sturnus vulgaris\n",
      "Coordinates: [11.906710950209355, 57.64625498641013]\n",
      "\n",
      "Occurrence ID: urn:lsid:artportalen.se:sighting:115040926\n",
      "Scientific Name: Dryobates minor\n",
      "Coordinates: [13.67667053766289, 59.741965223743584]\n",
      "\n",
      "Occurrence ID: urn:lsid:artportalen.se:sighting:115039662\n",
      "Scientific Name: Sturnus vulgaris\n",
      "Coordinates: [18.638766537776622, 57.68275759304657]\n",
      "\n"
     ]
    }
   ],
   "source": [
    "\n",
    "# Load the JSON data from a file or API response\n",
    "with open(\"observations.json\", \"r\") as f:\n",
    "    data = json.load(f)\n",
    "\n",
    "# Iterate over the first 10 features\n",
    "for feature in data[\"features\"][:3]:\n",
    "    # Print the occurrence ID, scientific name, and coordinates of the current feature\n",
    "    print(\"Occurrence ID:\", feature[\"properties\"][\"occurrenceId\"])\n",
    "    print(\"Scientific Name:\", feature[\"properties\"][\"scientificName\"])\n",
    "    print(\"Coordinates:\", feature[\"geometry\"][\"coordinates\"])\n",
    "    print()\n"
   ]
  },
  {
   "cell_type": "markdown",
   "metadata": {},
   "source": [
    "# Swedish species observations invasive\n",
    "\n",
    "https://sosgeo.artdata.slu.se/geoserver/web/wicket/bookmarkable/org.geoserver.web.demo.MapPreviewPage?3&filter=false\n"
   ]
  },
  {
   "cell_type": "code",
   "execution_count": 17,
   "metadata": {},
   "outputs": [],
   "source": [
    "import pandas as pd\n",
    "\n",
    "# Replace 'your_file_path.csv' with the actual path to your CSV file\n",
    "file_path = 'SpeciesObservationsInvasive.csv'\n",
    "\n",
    "# Load the CSV file into a DataFrame\n",
    "df = pd.read_csv(file_path)"
   ]
  },
  {
   "cell_type": "code",
   "execution_count": 18,
   "metadata": {},
   "outputs": [
    {
     "data": {
      "text/html": [
       "<div>\n",
       "<style scoped>\n",
       "    .dataframe tbody tr th:only-of-type {\n",
       "        vertical-align: middle;\n",
       "    }\n",
       "\n",
       "    .dataframe tbody tr th {\n",
       "        vertical-align: top;\n",
       "    }\n",
       "\n",
       "    .dataframe thead th {\n",
       "        text-align: right;\n",
       "    }\n",
       "</style>\n",
       "<table border=\"1\" class=\"dataframe\">\n",
       "  <thead>\n",
       "    <tr style=\"text-align: right;\">\n",
       "      <th></th>\n",
       "      <th>FID</th>\n",
       "      <th>occurrenceId</th>\n",
       "      <th>url</th>\n",
       "      <th>isPresentObservation</th>\n",
       "      <th>dataProviderId</th>\n",
       "      <th>datasetName</th>\n",
       "      <th>startDate</th>\n",
       "      <th>endDate</th>\n",
       "      <th>modified</th>\n",
       "      <th>decimalLatitude</th>\n",
       "      <th>...</th>\n",
       "      <th>project1Category</th>\n",
       "      <th>project1Url</th>\n",
       "      <th>project1Values</th>\n",
       "      <th>project2Id</th>\n",
       "      <th>project2Name</th>\n",
       "      <th>project2Category</th>\n",
       "      <th>project2Url</th>\n",
       "      <th>project2Values</th>\n",
       "      <th>point</th>\n",
       "      <th>pointLocation</th>\n",
       "    </tr>\n",
       "  </thead>\n",
       "  <tbody>\n",
       "    <tr>\n",
       "      <th>0</th>\n",
       "      <td>SpeciesObservationsInvasive.iO_EE44BcnWOXMpyz808</td>\n",
       "      <td>urn:lsid:herbarium.emg.umu.se:observation:UPS*...</td>\n",
       "      <td>NaN</td>\n",
       "      <td>True</td>\n",
       "      <td>7</td>\n",
       "      <td>Virtual Herbarium</td>\n",
       "      <td>1852-08-12T23:00:00</td>\n",
       "      <td>1852-08-12T23:00:00</td>\n",
       "      <td>NaN</td>\n",
       "      <td>57.79459</td>\n",
       "      <td>...</td>\n",
       "      <td>NaN</td>\n",
       "      <td>NaN</td>\n",
       "      <td>NaN</td>\n",
       "      <td>NaN</td>\n",
       "      <td>NaN</td>\n",
       "      <td>NaN</td>\n",
       "      <td>NaN</td>\n",
       "      <td>NaN</td>\n",
       "      <td>POINT (18.79638 57.79459)</td>\n",
       "      <td>POINT (18.79638 57.79459)</td>\n",
       "    </tr>\n",
       "  </tbody>\n",
       "</table>\n",
       "<p>1 rows × 61 columns</p>\n",
       "</div>"
      ],
      "text/plain": [
       "                                                FID  \\\n",
       "0  SpeciesObservationsInvasive.iO_EE44BcnWOXMpyz808   \n",
       "\n",
       "                                        occurrenceId  url  \\\n",
       "0  urn:lsid:herbarium.emg.umu.se:observation:UPS*...  NaN   \n",
       "\n",
       "   isPresentObservation  dataProviderId        datasetName  \\\n",
       "0                  True               7  Virtual Herbarium   \n",
       "\n",
       "             startDate              endDate modified  decimalLatitude  ...  \\\n",
       "0  1852-08-12T23:00:00  1852-08-12T23:00:00      NaN         57.79459  ...   \n",
       "\n",
       "   project1Category  project1Url project1Values project2Id project2Name  \\\n",
       "0               NaN          NaN            NaN        NaN          NaN   \n",
       "\n",
       "  project2Category project2Url project2Values                      point  \\\n",
       "0              NaN         NaN            NaN  POINT (18.79638 57.79459)   \n",
       "\n",
       "               pointLocation  \n",
       "0  POINT (18.79638 57.79459)  \n",
       "\n",
       "[1 rows x 61 columns]"
      ]
     },
     "execution_count": 18,
     "metadata": {},
     "output_type": "execute_result"
    }
   ],
   "source": [
    "\n",
    "# Display the first few rows of the DataFrame to inspect the data\n",
    "df.head(1)\n"
   ]
  },
  {
   "cell_type": "code",
   "execution_count": 21,
   "metadata": {},
   "outputs": [
    {
     "name": "stdout",
     "output_type": "stream",
     "text": [
      "['Gotland' 'Halland' 'Bohuslän' 'Uppland' 'Västerbotten' 'Södermanland'\n",
      " 'Jämtland' 'Pite lappmark' 'Gästrikland' 'Småland' 'Västmanland' 'Skåne'\n",
      " 'Värmland' 'Blekinge' 'Öland']\n"
     ]
    }
   ],
   "source": [
    "# Find unique values of the column 'isInvasiveInSweden'\n",
    "unique_values = df['province'].unique()\n",
    "\n",
    "# Display the unique values\n",
    "print(unique_values)\n"
   ]
  },
  {
   "cell_type": "code",
   "execution_count": 22,
   "metadata": {},
   "outputs": [
    {
     "name": "stdout",
     "output_type": "stream",
     "text": [
      "['Linum bienne' 'Dasya baillouviana' 'Magallana gigas' 'Sargassum muticum'\n",
      " 'Oncorhynchus mykiss' 'Gilia achilleifolia' 'Dasysiphonia japonica'\n",
      " 'Amphibalanus improvisus' 'Pinus contorta' 'Brugmansia suaveolens'\n",
      " 'Gracilaria vermiculophylla' 'Rhizoctonia solani'\n",
      " 'Pacifastacus leniusculus' 'Coreopsis tinctoria' 'Phyteuma nigrum'\n",
      " 'Mentha suaveolens' 'Acer pseudoplatanus' 'Phyteuma spicatum'\n",
      " 'Potamopyrgus antipodarum']\n"
     ]
    }
   ],
   "source": [
    "# Find unique values of the column 'scientificName'\n",
    "unique_species = df['scientificName'].unique()\n",
    "\n",
    "# Display the unique species names\n",
    "print(unique_species)\n"
   ]
  },
  {
   "cell_type": "markdown",
   "metadata": {},
   "source": [
    "Among the list provided, the following entries are plants:\n",
    "\n",
    "- Linum bienne\n",
    "- Gilia achilleifolia\n",
    "- Pinus contorta\n",
    "- Brugmansia suaveolens\n",
    "- Coreopsis tinctoria\n",
    "- Phyteuma nigrum\n",
    "- Mentha suaveolens\n",
    "- Acer pseudoplatanus\n",
    "- Phyteuma spicatum"
   ]
  },
  {
   "cell_type": "code",
   "execution_count": 19,
   "metadata": {},
   "outputs": [
    {
     "name": "stdout",
     "output_type": "stream",
     "text": [
      "<class 'pandas.core.frame.DataFrame'>\n",
      "RangeIndex: 50 entries, 0 to 49\n",
      "Data columns (total 61 columns):\n",
      " #   Column                         Non-Null Count  Dtype  \n",
      "---  ------                         --------------  -----  \n",
      " 0   FID                            50 non-null     object \n",
      " 1   occurrenceId                   50 non-null     object \n",
      " 2   url                            7 non-null      object \n",
      " 3   isPresentObservation           50 non-null     bool   \n",
      " 4   dataProviderId                 50 non-null     int64  \n",
      " 5   datasetName                    50 non-null     object \n",
      " 6   startDate                      50 non-null     object \n",
      " 7   endDate                        50 non-null     object \n",
      " 8   modified                       10 non-null     object \n",
      " 9   decimalLatitude                50 non-null     float64\n",
      " 10  decimalLongitude               50 non-null     float64\n",
      " 11  coordinateUncertaintyInMeters  50 non-null     int64  \n",
      " 12  locality                       10 non-null     object \n",
      " 13  municipality                   50 non-null     object \n",
      " 14  county                         50 non-null     object \n",
      " 15  province                       50 non-null     object \n",
      " 16  institutionCode                3 non-null      object \n",
      " 17  recordedBy                     49 non-null     object \n",
      " 18  reportedBy                     38 non-null     object \n",
      " 19  habitat                        8 non-null      object \n",
      " 20  occurrenceRemarks              8 non-null      object \n",
      " 21  eventRemarks                   0 non-null      float64\n",
      " 22  dyntaxaTaxonId                 50 non-null     int64  \n",
      " 23  taxonCategory                  50 non-null     object \n",
      " 24  organismGroup                  50 non-null     object \n",
      " 25  vernacularName                 43 non-null     object \n",
      " 26  scientificName                 50 non-null     object \n",
      " 27  isRedlisted                    50 non-null     bool   \n",
      " 28  redlistCategory                3 non-null      object \n",
      " 29  isProtectedByLaw               50 non-null     bool   \n",
      " 30  isInvasiveInSweden             50 non-null     bool   \n",
      " 31  isInvasiveEu                   50 non-null     bool   \n",
      " 32  invasiveRiskCategory           42 non-null     object \n",
      " 33  actionPlan                     0 non-null      float64\n",
      " 34  isHabitatsDirectiveAnnex2      50 non-null     bool   \n",
      " 35  isHabitatsDirectiveAnnex4      50 non-null     bool   \n",
      " 36  isHabitatsDirectiveAnnex5      50 non-null     bool   \n",
      " 37  isVerified                     50 non-null     bool   \n",
      " 38  isUncertainIdentification      50 non-null     bool   \n",
      " 39  activity                       0 non-null      float64\n",
      " 40  lifeStage                      2 non-null      object \n",
      " 41  gender                         0 non-null      float64\n",
      " 42  substrate                      0 non-null      float64\n",
      " 43  organismQuantity               3 non-null      float64\n",
      " 44  organismQuantityUnit           2 non-null      object \n",
      " 45  isNaturalOccurrence            50 non-null     bool   \n",
      " 46  isNeverFoundObservation        50 non-null     bool   \n",
      " 47  isNotRediscoveredObservation   50 non-null     bool   \n",
      " 48  birdNestActivityId             50 non-null     int64  \n",
      " 49  project1Id                     3 non-null      float64\n",
      " 50  project1Name                   3 non-null      object \n",
      " 51  project1Category               3 non-null      object \n",
      " 52  project1Url                    3 non-null      object \n",
      " 53  project1Values                 0 non-null      float64\n",
      " 54  project2Id                     0 non-null      float64\n",
      " 55  project2Name                   0 non-null      float64\n",
      " 56  project2Category               0 non-null      float64\n",
      " 57  project2Url                    0 non-null      float64\n",
      " 58  project2Values                 0 non-null      float64\n",
      " 59  point                          50 non-null     object \n",
      " 60  pointLocation                  50 non-null     object \n",
      "dtypes: bool(13), float64(15), int64(4), object(29)\n",
      "memory usage: 19.5+ KB\n"
     ]
    }
   ],
   "source": [
    "df.info()"
   ]
  }
 ],
 "metadata": {
  "kernelspec": {
   "display_name": "jupyterlab",
   "language": "python",
   "name": "python3"
  },
  "language_info": {
   "codemirror_mode": {
    "name": "ipython",
    "version": 3
   },
   "file_extension": ".py",
   "mimetype": "text/x-python",
   "name": "python",
   "nbconvert_exporter": "python",
   "pygments_lexer": "ipython3",
   "version": "3.11.5"
  }
 },
 "nbformat": 4,
 "nbformat_minor": 2
}
